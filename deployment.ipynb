{
 "cells": [
  {
   "cell_type": "code",
   "execution_count": 3,
   "id": "e44dd1bb",
   "metadata": {},
   "outputs": [],
   "source": [
    "import pandas as pd      \n",
    "import numpy as np \n",
    "from sklearn.metrics import mean_squared_error, mean_absolute_error, r2_score\n",
    "from sklearn.model_selection import train_test_split\n",
    "from sklearn.linear_model import LinearRegression\n",
    "import pickle\n",
    "\n",
    "import warnings\n",
    "warnings.filterwarnings('ignore')\n"
   ]
  },
  {
   "cell_type": "code",
   "execution_count": 4,
   "id": "c4f922a1",
   "metadata": {},
   "outputs": [],
   "source": [
    "from PIL import Image"
   ]
  },
  {
   "cell_type": "code",
   "execution_count": 5,
   "id": "5056a252",
   "metadata": {},
   "outputs": [],
   "source": [
    "#pip list"
   ]
  },
  {
   "cell_type": "code",
   "execution_count": 6,
   "id": "e94009a8",
   "metadata": {},
   "outputs": [],
   "source": [
    "def eval_metrics(actual, pred):\n",
    "    rmse = np.sqrt(mean_squared_error(actual, pred))\n",
    "    mae = mean_absolute_error(actual, pred)\n",
    "    mse = mean_squared_error(actual, pred)\n",
    "    score = r2_score(actual, pred)\n",
    "    return print(\" r2_score:\", score, \"\\n\",\"mae:\", mae, \"\\n\",\"mse:\",mse, \"\\n\",\"rmse:\",rmse)"
   ]
  },
  {
   "cell_type": "code",
   "execution_count": 7,
   "id": "e78ec7d3",
   "metadata": {},
   "outputs": [],
   "source": [
    "#pip install streamlit==1.10.0"
   ]
  },
  {
   "cell_type": "code",
   "execution_count": 8,
   "id": "f1b04cf4",
   "metadata": {},
   "outputs": [],
   "source": [
    " #pip install scikit-learn==1.0.2"
   ]
  },
  {
   "cell_type": "code",
   "execution_count": 9,
   "id": "ce346f6e",
   "metadata": {},
   "outputs": [],
   "source": [
    "#pip install seaborn"
   ]
  },
  {
   "cell_type": "code",
   "execution_count": 10,
   "id": "e59cdb60",
   "metadata": {},
   "outputs": [],
   "source": [
    "df = pd.read_csv(\"final_scout_not_dummy2.csv\")"
   ]
  },
  {
   "cell_type": "markdown",
   "id": "8e222106",
   "metadata": {},
   "source": [
    "## Exploring Data"
   ]
  },
  {
   "cell_type": "code",
   "execution_count": 11,
   "id": "0762458e",
   "metadata": {},
   "outputs": [
    {
     "data": {
      "text/html": [
       "<div>\n",
       "<style scoped>\n",
       "    .dataframe tbody tr th:only-of-type {\n",
       "        vertical-align: middle;\n",
       "    }\n",
       "\n",
       "    .dataframe tbody tr th {\n",
       "        vertical-align: top;\n",
       "    }\n",
       "\n",
       "    .dataframe thead th {\n",
       "        text-align: right;\n",
       "    }\n",
       "</style>\n",
       "<table border=\"1\" class=\"dataframe\">\n",
       "  <thead>\n",
       "    <tr style=\"text-align: right;\">\n",
       "      <th></th>\n",
       "      <th>make_model</th>\n",
       "      <th>body_type</th>\n",
       "      <th>price</th>\n",
       "      <th>km</th>\n",
       "      <th>Type</th>\n",
       "      <th>Fuel</th>\n",
       "      <th>Extras</th>\n",
       "      <th>Gears</th>\n",
       "      <th>age</th>\n",
       "      <th>Previous_Owners</th>\n",
       "      <th>...</th>\n",
       "      <th>Upholstery_type</th>\n",
       "      <th>Gearing_Type</th>\n",
       "      <th>Displacement_cc</th>\n",
       "      <th>Weight_kg</th>\n",
       "      <th>Drive_chain</th>\n",
       "      <th>cons_comb</th>\n",
       "      <th>CO2_Emission</th>\n",
       "      <th>Comfort_Convenience_Package</th>\n",
       "      <th>Entertainment_Media_Package</th>\n",
       "      <th>Safety_Security_Package</th>\n",
       "    </tr>\n",
       "  </thead>\n",
       "  <tbody>\n",
       "    <tr>\n",
       "      <th>0</th>\n",
       "      <td>Audi A1</td>\n",
       "      <td>Sedans</td>\n",
       "      <td>15770</td>\n",
       "      <td>56013.0</td>\n",
       "      <td>Used</td>\n",
       "      <td>Diesel</td>\n",
       "      <td>Alloy wheels, Catalytic Converter, Voice Control</td>\n",
       "      <td>7.0</td>\n",
       "      <td>3.0</td>\n",
       "      <td>2.0</td>\n",
       "      <td>...</td>\n",
       "      <td>Cloth</td>\n",
       "      <td>Automatic</td>\n",
       "      <td>1422.0</td>\n",
       "      <td>1220.0</td>\n",
       "      <td>front</td>\n",
       "      <td>3.8</td>\n",
       "      <td>99.0</td>\n",
       "      <td>Premium</td>\n",
       "      <td>Plus</td>\n",
       "      <td>Safety Premium Package</td>\n",
       "    </tr>\n",
       "    <tr>\n",
       "      <th>1</th>\n",
       "      <td>Audi A1</td>\n",
       "      <td>Sedans</td>\n",
       "      <td>14500</td>\n",
       "      <td>80000.0</td>\n",
       "      <td>Used</td>\n",
       "      <td>Benzine</td>\n",
       "      <td>Alloy wheels, Sport seats, Sport suspension, V...</td>\n",
       "      <td>7.0</td>\n",
       "      <td>2.0</td>\n",
       "      <td>1.0</td>\n",
       "      <td>...</td>\n",
       "      <td>Cloth</td>\n",
       "      <td>Automatic</td>\n",
       "      <td>1798.0</td>\n",
       "      <td>1255.0</td>\n",
       "      <td>front</td>\n",
       "      <td>5.6</td>\n",
       "      <td>129.0</td>\n",
       "      <td>Standard</td>\n",
       "      <td>Plus</td>\n",
       "      <td>Safety Premium Package</td>\n",
       "    </tr>\n",
       "    <tr>\n",
       "      <th>2</th>\n",
       "      <td>Audi A1</td>\n",
       "      <td>Sedans</td>\n",
       "      <td>14640</td>\n",
       "      <td>83450.0</td>\n",
       "      <td>Used</td>\n",
       "      <td>Diesel</td>\n",
       "      <td>Alloy wheels, Voice Control</td>\n",
       "      <td>7.0</td>\n",
       "      <td>3.0</td>\n",
       "      <td>1.0</td>\n",
       "      <td>...</td>\n",
       "      <td>Cloth</td>\n",
       "      <td>Automatic</td>\n",
       "      <td>1598.0</td>\n",
       "      <td>1135.0</td>\n",
       "      <td>front</td>\n",
       "      <td>3.8</td>\n",
       "      <td>99.0</td>\n",
       "      <td>Premium</td>\n",
       "      <td>Standard</td>\n",
       "      <td>Safety Premium Package</td>\n",
       "    </tr>\n",
       "    <tr>\n",
       "      <th>3</th>\n",
       "      <td>Audi A1</td>\n",
       "      <td>Sedans</td>\n",
       "      <td>14500</td>\n",
       "      <td>73000.0</td>\n",
       "      <td>Used</td>\n",
       "      <td>Diesel</td>\n",
       "      <td>Alloy wheels, Sport seats, Voice Control</td>\n",
       "      <td>6.0</td>\n",
       "      <td>3.0</td>\n",
       "      <td>1.0</td>\n",
       "      <td>...</td>\n",
       "      <td>Cloth</td>\n",
       "      <td>Automatic</td>\n",
       "      <td>1422.0</td>\n",
       "      <td>1195.0</td>\n",
       "      <td>front</td>\n",
       "      <td>3.8</td>\n",
       "      <td>99.0</td>\n",
       "      <td>Standard</td>\n",
       "      <td>Plus</td>\n",
       "      <td>Safety Premium Package</td>\n",
       "    </tr>\n",
       "    <tr>\n",
       "      <th>4</th>\n",
       "      <td>Audi A1</td>\n",
       "      <td>Sedans</td>\n",
       "      <td>16790</td>\n",
       "      <td>16200.0</td>\n",
       "      <td>Used</td>\n",
       "      <td>Diesel</td>\n",
       "      <td>Alloy wheels, Sport package, Sport suspension,...</td>\n",
       "      <td>7.0</td>\n",
       "      <td>3.0</td>\n",
       "      <td>1.0</td>\n",
       "      <td>...</td>\n",
       "      <td>Cloth</td>\n",
       "      <td>Automatic</td>\n",
       "      <td>1422.0</td>\n",
       "      <td>1135.0</td>\n",
       "      <td>front</td>\n",
       "      <td>4.1</td>\n",
       "      <td>109.0</td>\n",
       "      <td>Premium</td>\n",
       "      <td>Plus</td>\n",
       "      <td>Safety Premium Package</td>\n",
       "    </tr>\n",
       "  </tbody>\n",
       "</table>\n",
       "<p>5 rows × 23 columns</p>\n",
       "</div>"
      ],
      "text/plain": [
       "  make_model body_type  price       km  Type     Fuel  \\\n",
       "0    Audi A1    Sedans  15770  56013.0  Used   Diesel   \n",
       "1    Audi A1    Sedans  14500  80000.0  Used  Benzine   \n",
       "2    Audi A1    Sedans  14640  83450.0  Used   Diesel   \n",
       "3    Audi A1    Sedans  14500  73000.0  Used   Diesel   \n",
       "4    Audi A1    Sedans  16790  16200.0  Used   Diesel   \n",
       "\n",
       "                                              Extras  Gears  age  \\\n",
       "0   Alloy wheels, Catalytic Converter, Voice Control    7.0  3.0   \n",
       "1  Alloy wheels, Sport seats, Sport suspension, V...    7.0  2.0   \n",
       "2                        Alloy wheels, Voice Control    7.0  3.0   \n",
       "3           Alloy wheels, Sport seats, Voice Control    6.0  3.0   \n",
       "4  Alloy wheels, Sport package, Sport suspension,...    7.0  3.0   \n",
       "\n",
       "   Previous_Owners  ...  Upholstery_type  Gearing_Type Displacement_cc  \\\n",
       "0              2.0  ...            Cloth     Automatic          1422.0   \n",
       "1              1.0  ...            Cloth     Automatic          1798.0   \n",
       "2              1.0  ...            Cloth     Automatic          1598.0   \n",
       "3              1.0  ...            Cloth     Automatic          1422.0   \n",
       "4              1.0  ...            Cloth     Automatic          1422.0   \n",
       "\n",
       "  Weight_kg Drive_chain  cons_comb  CO2_Emission Comfort_Convenience_Package  \\\n",
       "0    1220.0       front        3.8          99.0                     Premium   \n",
       "1    1255.0       front        5.6         129.0                    Standard   \n",
       "2    1135.0       front        3.8          99.0                     Premium   \n",
       "3    1195.0       front        3.8          99.0                    Standard   \n",
       "4    1135.0       front        4.1         109.0                     Premium   \n",
       "\n",
       "   Entertainment_Media_Package  Safety_Security_Package  \n",
       "0                         Plus   Safety Premium Package  \n",
       "1                         Plus   Safety Premium Package  \n",
       "2                     Standard   Safety Premium Package  \n",
       "3                         Plus   Safety Premium Package  \n",
       "4                         Plus   Safety Premium Package  \n",
       "\n",
       "[5 rows x 23 columns]"
      ]
     },
     "execution_count": 11,
     "metadata": {},
     "output_type": "execute_result"
    }
   ],
   "source": [
    "df.head()"
   ]
  },
  {
   "cell_type": "code",
   "execution_count": 12,
   "id": "6e6de901",
   "metadata": {},
   "outputs": [
    {
     "name": "stdout",
     "output_type": "stream",
     "text": [
      "<class 'pandas.core.frame.DataFrame'>\n",
      "RangeIndex: 15909 entries, 0 to 15908\n",
      "Data columns (total 23 columns):\n",
      " #   Column                       Non-Null Count  Dtype  \n",
      "---  ------                       --------------  -----  \n",
      " 0   make_model                   15909 non-null  object \n",
      " 1   body_type                    15909 non-null  object \n",
      " 2   price                        15909 non-null  int64  \n",
      " 3   km                           15909 non-null  float64\n",
      " 4   Type                         15909 non-null  object \n",
      " 5   Fuel                         15909 non-null  object \n",
      " 6   Extras                       15909 non-null  object \n",
      " 7   Gears                        15909 non-null  float64\n",
      " 8   age                          15909 non-null  float64\n",
      " 9   Previous_Owners              15909 non-null  float64\n",
      " 10  hp_kW                        15909 non-null  float64\n",
      " 11  Inspection_new               15909 non-null  int64  \n",
      " 12  Paint_Type                   15909 non-null  object \n",
      " 13  Upholstery_type              15909 non-null  object \n",
      " 14  Gearing_Type                 15909 non-null  object \n",
      " 15  Displacement_cc              15909 non-null  float64\n",
      " 16  Weight_kg                    15909 non-null  float64\n",
      " 17  Drive_chain                  15909 non-null  object \n",
      " 18  cons_comb                    15909 non-null  float64\n",
      " 19  CO2_Emission                 15909 non-null  float64\n",
      " 20  Comfort_Convenience_Package  15909 non-null  object \n",
      " 21  Entertainment_Media_Package  15909 non-null  object \n",
      " 22  Safety_Security_Package      15909 non-null  object \n",
      "dtypes: float64(9), int64(2), object(12)\n",
      "memory usage: 2.8+ MB\n"
     ]
    }
   ],
   "source": [
    "df.info()"
   ]
  },
  {
   "cell_type": "code",
   "execution_count": 13,
   "id": "e92eb026",
   "metadata": {},
   "outputs": [
    {
     "data": {
      "text/html": [
       "<div>\n",
       "<style scoped>\n",
       "    .dataframe tbody tr th:only-of-type {\n",
       "        vertical-align: middle;\n",
       "    }\n",
       "\n",
       "    .dataframe tbody tr th {\n",
       "        vertical-align: top;\n",
       "    }\n",
       "\n",
       "    .dataframe thead th {\n",
       "        text-align: right;\n",
       "    }\n",
       "</style>\n",
       "<table border=\"1\" class=\"dataframe\">\n",
       "  <thead>\n",
       "    <tr style=\"text-align: right;\">\n",
       "      <th></th>\n",
       "      <th>price</th>\n",
       "      <th>km</th>\n",
       "      <th>Gears</th>\n",
       "      <th>age</th>\n",
       "      <th>Previous_Owners</th>\n",
       "      <th>hp_kW</th>\n",
       "      <th>Inspection_new</th>\n",
       "      <th>Displacement_cc</th>\n",
       "      <th>Weight_kg</th>\n",
       "      <th>cons_comb</th>\n",
       "      <th>CO2_Emission</th>\n",
       "    </tr>\n",
       "  </thead>\n",
       "  <tbody>\n",
       "    <tr>\n",
       "      <th>count</th>\n",
       "      <td>15909.000000</td>\n",
       "      <td>15909.000000</td>\n",
       "      <td>15909.000000</td>\n",
       "      <td>15909.000000</td>\n",
       "      <td>15909.000000</td>\n",
       "      <td>15909.000000</td>\n",
       "      <td>15909.000000</td>\n",
       "      <td>15909.000000</td>\n",
       "      <td>15909.000000</td>\n",
       "      <td>15909.000000</td>\n",
       "      <td>15909.000000</td>\n",
       "    </tr>\n",
       "    <tr>\n",
       "      <th>mean</th>\n",
       "      <td>18020.241876</td>\n",
       "      <td>32092.436526</td>\n",
       "      <td>5.937268</td>\n",
       "      <td>1.389591</td>\n",
       "      <td>1.042869</td>\n",
       "      <td>88.493746</td>\n",
       "      <td>0.247156</td>\n",
       "      <td>1428.657364</td>\n",
       "      <td>1337.675467</td>\n",
       "      <td>4.824329</td>\n",
       "      <td>117.783110</td>\n",
       "    </tr>\n",
       "    <tr>\n",
       "      <th>std</th>\n",
       "      <td>7377.200813</td>\n",
       "      <td>36982.838757</td>\n",
       "      <td>0.704943</td>\n",
       "      <td>1.121355</td>\n",
       "      <td>0.339241</td>\n",
       "      <td>26.671943</td>\n",
       "      <td>0.431372</td>\n",
       "      <td>275.852413</td>\n",
       "      <td>199.672043</td>\n",
       "      <td>0.887890</td>\n",
       "      <td>18.022786</td>\n",
       "    </tr>\n",
       "    <tr>\n",
       "      <th>min</th>\n",
       "      <td>4950.000000</td>\n",
       "      <td>0.000000</td>\n",
       "      <td>5.000000</td>\n",
       "      <td>0.000000</td>\n",
       "      <td>0.000000</td>\n",
       "      <td>40.000000</td>\n",
       "      <td>0.000000</td>\n",
       "      <td>890.000000</td>\n",
       "      <td>840.000000</td>\n",
       "      <td>3.000000</td>\n",
       "      <td>45.000000</td>\n",
       "    </tr>\n",
       "    <tr>\n",
       "      <th>25%</th>\n",
       "      <td>12850.000000</td>\n",
       "      <td>1913.000000</td>\n",
       "      <td>5.000000</td>\n",
       "      <td>0.000000</td>\n",
       "      <td>1.000000</td>\n",
       "      <td>66.000000</td>\n",
       "      <td>0.000000</td>\n",
       "      <td>1229.000000</td>\n",
       "      <td>1165.000000</td>\n",
       "      <td>4.000000</td>\n",
       "      <td>104.000000</td>\n",
       "    </tr>\n",
       "    <tr>\n",
       "      <th>50%</th>\n",
       "      <td>16900.000000</td>\n",
       "      <td>20410.000000</td>\n",
       "      <td>6.000000</td>\n",
       "      <td>1.000000</td>\n",
       "      <td>1.000000</td>\n",
       "      <td>85.000000</td>\n",
       "      <td>0.000000</td>\n",
       "      <td>1461.000000</td>\n",
       "      <td>1295.000000</td>\n",
       "      <td>4.800000</td>\n",
       "      <td>117.000000</td>\n",
       "    </tr>\n",
       "    <tr>\n",
       "      <th>75%</th>\n",
       "      <td>21900.000000</td>\n",
       "      <td>46900.000000</td>\n",
       "      <td>6.000000</td>\n",
       "      <td>2.000000</td>\n",
       "      <td>1.000000</td>\n",
       "      <td>103.000000</td>\n",
       "      <td>0.000000</td>\n",
       "      <td>1598.000000</td>\n",
       "      <td>1472.000000</td>\n",
       "      <td>5.400000</td>\n",
       "      <td>129.000000</td>\n",
       "    </tr>\n",
       "    <tr>\n",
       "      <th>max</th>\n",
       "      <td>74600.000000</td>\n",
       "      <td>317000.000000</td>\n",
       "      <td>8.000000</td>\n",
       "      <td>3.000000</td>\n",
       "      <td>4.000000</td>\n",
       "      <td>294.000000</td>\n",
       "      <td>1.000000</td>\n",
       "      <td>2967.000000</td>\n",
       "      <td>2471.000000</td>\n",
       "      <td>9.100000</td>\n",
       "      <td>253.000000</td>\n",
       "    </tr>\n",
       "  </tbody>\n",
       "</table>\n",
       "</div>"
      ],
      "text/plain": [
       "              price             km         Gears           age  \\\n",
       "count  15909.000000   15909.000000  15909.000000  15909.000000   \n",
       "mean   18020.241876   32092.436526      5.937268      1.389591   \n",
       "std     7377.200813   36982.838757      0.704943      1.121355   \n",
       "min     4950.000000       0.000000      5.000000      0.000000   \n",
       "25%    12850.000000    1913.000000      5.000000      0.000000   \n",
       "50%    16900.000000   20410.000000      6.000000      1.000000   \n",
       "75%    21900.000000   46900.000000      6.000000      2.000000   \n",
       "max    74600.000000  317000.000000      8.000000      3.000000   \n",
       "\n",
       "       Previous_Owners         hp_kW  Inspection_new  Displacement_cc  \\\n",
       "count     15909.000000  15909.000000    15909.000000     15909.000000   \n",
       "mean          1.042869     88.493746        0.247156      1428.657364   \n",
       "std           0.339241     26.671943        0.431372       275.852413   \n",
       "min           0.000000     40.000000        0.000000       890.000000   \n",
       "25%           1.000000     66.000000        0.000000      1229.000000   \n",
       "50%           1.000000     85.000000        0.000000      1461.000000   \n",
       "75%           1.000000    103.000000        0.000000      1598.000000   \n",
       "max           4.000000    294.000000        1.000000      2967.000000   \n",
       "\n",
       "          Weight_kg     cons_comb  CO2_Emission  \n",
       "count  15909.000000  15909.000000  15909.000000  \n",
       "mean    1337.675467      4.824329    117.783110  \n",
       "std      199.672043      0.887890     18.022786  \n",
       "min      840.000000      3.000000     45.000000  \n",
       "25%     1165.000000      4.000000    104.000000  \n",
       "50%     1295.000000      4.800000    117.000000  \n",
       "75%     1472.000000      5.400000    129.000000  \n",
       "max     2471.000000      9.100000    253.000000  "
      ]
     },
     "execution_count": 13,
     "metadata": {},
     "output_type": "execute_result"
    }
   ],
   "source": [
    "df.describe()"
   ]
  },
  {
   "cell_type": "code",
   "execution_count": 14,
   "id": "3979f61f",
   "metadata": {},
   "outputs": [
    {
     "data": {
      "text/html": [
       "<div>\n",
       "<style scoped>\n",
       "    .dataframe tbody tr th:only-of-type {\n",
       "        vertical-align: middle;\n",
       "    }\n",
       "\n",
       "    .dataframe tbody tr th {\n",
       "        vertical-align: top;\n",
       "    }\n",
       "\n",
       "    .dataframe thead th {\n",
       "        text-align: right;\n",
       "    }\n",
       "</style>\n",
       "<table border=\"1\" class=\"dataframe\">\n",
       "  <thead>\n",
       "    <tr style=\"text-align: right;\">\n",
       "      <th></th>\n",
       "      <th>make_model</th>\n",
       "      <th>body_type</th>\n",
       "      <th>Type</th>\n",
       "      <th>Fuel</th>\n",
       "      <th>Extras</th>\n",
       "      <th>Paint_Type</th>\n",
       "      <th>Upholstery_type</th>\n",
       "      <th>Gearing_Type</th>\n",
       "      <th>Drive_chain</th>\n",
       "      <th>Comfort_Convenience_Package</th>\n",
       "      <th>Entertainment_Media_Package</th>\n",
       "      <th>Safety_Security_Package</th>\n",
       "    </tr>\n",
       "  </thead>\n",
       "  <tbody>\n",
       "    <tr>\n",
       "      <th>count</th>\n",
       "      <td>15909</td>\n",
       "      <td>15909</td>\n",
       "      <td>15909</td>\n",
       "      <td>15909</td>\n",
       "      <td>15909</td>\n",
       "      <td>15909</td>\n",
       "      <td>15909</td>\n",
       "      <td>15909</td>\n",
       "      <td>15909</td>\n",
       "      <td>15909</td>\n",
       "      <td>15909</td>\n",
       "      <td>15909</td>\n",
       "    </tr>\n",
       "    <tr>\n",
       "      <th>unique</th>\n",
       "      <td>8</td>\n",
       "      <td>8</td>\n",
       "      <td>5</td>\n",
       "      <td>3</td>\n",
       "      <td>659</td>\n",
       "      <td>3</td>\n",
       "      <td>2</td>\n",
       "      <td>3</td>\n",
       "      <td>3</td>\n",
       "      <td>3</td>\n",
       "      <td>2</td>\n",
       "      <td>3</td>\n",
       "    </tr>\n",
       "    <tr>\n",
       "      <th>top</th>\n",
       "      <td>Audi A3</td>\n",
       "      <td>Sedans</td>\n",
       "      <td>Used</td>\n",
       "      <td>Benzine</td>\n",
       "      <td>Alloy wheels</td>\n",
       "      <td>Metallic</td>\n",
       "      <td>Cloth</td>\n",
       "      <td>Manual</td>\n",
       "      <td>front</td>\n",
       "      <td>Standard</td>\n",
       "      <td>Plus</td>\n",
       "      <td>Safety Premium Package</td>\n",
       "    </tr>\n",
       "    <tr>\n",
       "      <th>freq</th>\n",
       "      <td>3093</td>\n",
       "      <td>8000</td>\n",
       "      <td>11090</td>\n",
       "      <td>8548</td>\n",
       "      <td>5782</td>\n",
       "      <td>15240</td>\n",
       "      <td>12231</td>\n",
       "      <td>8148</td>\n",
       "      <td>15701</td>\n",
       "      <td>10778</td>\n",
       "      <td>10803</td>\n",
       "      <td>14612</td>\n",
       "    </tr>\n",
       "  </tbody>\n",
       "</table>\n",
       "</div>"
      ],
      "text/plain": [
       "       make_model body_type   Type     Fuel        Extras Paint_Type  \\\n",
       "count       15909     15909  15909    15909         15909      15909   \n",
       "unique          8         8      5        3           659          3   \n",
       "top       Audi A3    Sedans   Used  Benzine  Alloy wheels   Metallic   \n",
       "freq         3093      8000  11090     8548          5782      15240   \n",
       "\n",
       "       Upholstery_type Gearing_Type Drive_chain Comfort_Convenience_Package  \\\n",
       "count            15909        15909       15909                       15909   \n",
       "unique               2            3           3                           3   \n",
       "top              Cloth       Manual       front                    Standard   \n",
       "freq             12231         8148       15701                       10778   \n",
       "\n",
       "       Entertainment_Media_Package Safety_Security_Package  \n",
       "count                        15909                   15909  \n",
       "unique                           2                       3  \n",
       "top                           Plus  Safety Premium Package  \n",
       "freq                         10803                   14612  "
      ]
     },
     "execution_count": 14,
     "metadata": {},
     "output_type": "execute_result"
    }
   ],
   "source": [
    "df.describe(include=\"object\")"
   ]
  },
  {
   "cell_type": "code",
   "execution_count": 15,
   "id": "86417807",
   "metadata": {},
   "outputs": [
    {
     "data": {
      "text/plain": [
       "(15909, 23)"
      ]
     },
     "execution_count": 15,
     "metadata": {},
     "output_type": "execute_result"
    }
   ],
   "source": [
    "df.shape"
   ]
  },
  {
   "cell_type": "code",
   "execution_count": 16,
   "id": "30b1878e",
   "metadata": {},
   "outputs": [
    {
     "data": {
      "text/plain": [
       "False"
      ]
     },
     "execution_count": 16,
     "metadata": {},
     "output_type": "execute_result"
    }
   ],
   "source": [
    "df.isnull().sum().any()"
   ]
  },
  {
   "cell_type": "code",
   "execution_count": 17,
   "id": "4a29bc33",
   "metadata": {},
   "outputs": [
    {
     "data": {
      "text/plain": [
       "Index(['make_model', 'body_type', 'price', 'km', 'Type', 'Fuel', 'Extras',\n",
       "       'Gears', 'age', 'Previous_Owners', 'hp_kW', 'Inspection_new',\n",
       "       'Paint_Type', 'Upholstery_type', 'Gearing_Type', 'Displacement_cc',\n",
       "       'Weight_kg', 'Drive_chain', 'cons_comb', 'CO2_Emission',\n",
       "       'Comfort_Convenience_Package', 'Entertainment_Media_Package',\n",
       "       'Safety_Security_Package'],\n",
       "      dtype='object')"
      ]
     },
     "execution_count": 17,
     "metadata": {},
     "output_type": "execute_result"
    }
   ],
   "source": [
    "df.columns"
   ]
  },
  {
   "cell_type": "code",
   "execution_count": 18,
   "id": "b01dd0e5",
   "metadata": {},
   "outputs": [
    {
     "data": {
      "text/html": [
       "<div>\n",
       "<style scoped>\n",
       "    .dataframe tbody tr th:only-of-type {\n",
       "        vertical-align: middle;\n",
       "    }\n",
       "\n",
       "    .dataframe tbody tr th {\n",
       "        vertical-align: top;\n",
       "    }\n",
       "\n",
       "    .dataframe thead th {\n",
       "        text-align: right;\n",
       "    }\n",
       "</style>\n",
       "<table border=\"1\" class=\"dataframe\">\n",
       "  <thead>\n",
       "    <tr style=\"text-align: right;\">\n",
       "      <th></th>\n",
       "      <th>price</th>\n",
       "      <th>km</th>\n",
       "      <th>Gears</th>\n",
       "      <th>age</th>\n",
       "      <th>Previous_Owners</th>\n",
       "      <th>hp_kW</th>\n",
       "      <th>Inspection_new</th>\n",
       "      <th>Displacement_cc</th>\n",
       "      <th>Weight_kg</th>\n",
       "      <th>cons_comb</th>\n",
       "      <th>CO2_Emission</th>\n",
       "    </tr>\n",
       "  </thead>\n",
       "  <tbody>\n",
       "    <tr>\n",
       "      <th>price</th>\n",
       "      <td>1.000000</td>\n",
       "      <td>-0.399443</td>\n",
       "      <td>0.530563</td>\n",
       "      <td>-0.473689</td>\n",
       "      <td>-0.144672</td>\n",
       "      <td>0.696532</td>\n",
       "      <td>0.008508</td>\n",
       "      <td>0.282075</td>\n",
       "      <td>0.468264</td>\n",
       "      <td>0.301448</td>\n",
       "      <td>0.347668</td>\n",
       "    </tr>\n",
       "    <tr>\n",
       "      <th>km</th>\n",
       "      <td>-0.399443</td>\n",
       "      <td>1.000000</td>\n",
       "      <td>-0.033087</td>\n",
       "      <td>0.758370</td>\n",
       "      <td>0.157039</td>\n",
       "      <td>0.004170</td>\n",
       "      <td>-0.049485</td>\n",
       "      <td>0.306792</td>\n",
       "      <td>0.147246</td>\n",
       "      <td>-0.345228</td>\n",
       "      <td>-0.227640</td>\n",
       "    </tr>\n",
       "    <tr>\n",
       "      <th>Gears</th>\n",
       "      <td>0.530563</td>\n",
       "      <td>-0.033087</td>\n",
       "      <td>1.000000</td>\n",
       "      <td>-0.064507</td>\n",
       "      <td>-0.036594</td>\n",
       "      <td>0.449680</td>\n",
       "      <td>-0.011026</td>\n",
       "      <td>0.339431</td>\n",
       "      <td>0.334002</td>\n",
       "      <td>0.011357</td>\n",
       "      <td>0.106674</td>\n",
       "    </tr>\n",
       "    <tr>\n",
       "      <th>age</th>\n",
       "      <td>-0.473689</td>\n",
       "      <td>0.758370</td>\n",
       "      <td>-0.064507</td>\n",
       "      <td>1.000000</td>\n",
       "      <td>0.316166</td>\n",
       "      <td>-0.083334</td>\n",
       "      <td>-0.045467</td>\n",
       "      <td>0.215304</td>\n",
       "      <td>0.065081</td>\n",
       "      <td>-0.371941</td>\n",
       "      <td>-0.288236</td>\n",
       "    </tr>\n",
       "    <tr>\n",
       "      <th>Previous_Owners</th>\n",
       "      <td>-0.144672</td>\n",
       "      <td>0.157039</td>\n",
       "      <td>-0.036594</td>\n",
       "      <td>0.316166</td>\n",
       "      <td>1.000000</td>\n",
       "      <td>-0.022535</td>\n",
       "      <td>0.019519</td>\n",
       "      <td>0.027961</td>\n",
       "      <td>0.003460</td>\n",
       "      <td>-0.022799</td>\n",
       "      <td>-0.030866</td>\n",
       "    </tr>\n",
       "    <tr>\n",
       "      <th>hp_kW</th>\n",
       "      <td>0.696532</td>\n",
       "      <td>0.004170</td>\n",
       "      <td>0.449680</td>\n",
       "      <td>-0.083334</td>\n",
       "      <td>-0.022535</td>\n",
       "      <td>1.000000</td>\n",
       "      <td>0.036740</td>\n",
       "      <td>0.597708</td>\n",
       "      <td>0.638395</td>\n",
       "      <td>0.403492</td>\n",
       "      <td>0.522772</td>\n",
       "    </tr>\n",
       "    <tr>\n",
       "      <th>Inspection_new</th>\n",
       "      <td>0.008508</td>\n",
       "      <td>-0.049485</td>\n",
       "      <td>-0.011026</td>\n",
       "      <td>-0.045467</td>\n",
       "      <td>0.019519</td>\n",
       "      <td>0.036740</td>\n",
       "      <td>1.000000</td>\n",
       "      <td>-0.025975</td>\n",
       "      <td>-0.035456</td>\n",
       "      <td>0.154669</td>\n",
       "      <td>0.134247</td>\n",
       "    </tr>\n",
       "    <tr>\n",
       "      <th>Displacement_cc</th>\n",
       "      <td>0.282075</td>\n",
       "      <td>0.306792</td>\n",
       "      <td>0.339431</td>\n",
       "      <td>0.215304</td>\n",
       "      <td>0.027961</td>\n",
       "      <td>0.597708</td>\n",
       "      <td>-0.025975</td>\n",
       "      <td>1.000000</td>\n",
       "      <td>0.563594</td>\n",
       "      <td>0.004314</td>\n",
       "      <td>0.288515</td>\n",
       "    </tr>\n",
       "    <tr>\n",
       "      <th>Weight_kg</th>\n",
       "      <td>0.468264</td>\n",
       "      <td>0.147246</td>\n",
       "      <td>0.334002</td>\n",
       "      <td>0.065081</td>\n",
       "      <td>0.003460</td>\n",
       "      <td>0.638395</td>\n",
       "      <td>-0.035456</td>\n",
       "      <td>0.563594</td>\n",
       "      <td>1.000000</td>\n",
       "      <td>0.105840</td>\n",
       "      <td>0.298414</td>\n",
       "    </tr>\n",
       "    <tr>\n",
       "      <th>cons_comb</th>\n",
       "      <td>0.301448</td>\n",
       "      <td>-0.345228</td>\n",
       "      <td>0.011357</td>\n",
       "      <td>-0.371941</td>\n",
       "      <td>-0.022799</td>\n",
       "      <td>0.403492</td>\n",
       "      <td>0.154669</td>\n",
       "      <td>0.004314</td>\n",
       "      <td>0.105840</td>\n",
       "      <td>1.000000</td>\n",
       "      <td>0.896209</td>\n",
       "    </tr>\n",
       "    <tr>\n",
       "      <th>CO2_Emission</th>\n",
       "      <td>0.347668</td>\n",
       "      <td>-0.227640</td>\n",
       "      <td>0.106674</td>\n",
       "      <td>-0.288236</td>\n",
       "      <td>-0.030866</td>\n",
       "      <td>0.522772</td>\n",
       "      <td>0.134247</td>\n",
       "      <td>0.288515</td>\n",
       "      <td>0.298414</td>\n",
       "      <td>0.896209</td>\n",
       "      <td>1.000000</td>\n",
       "    </tr>\n",
       "  </tbody>\n",
       "</table>\n",
       "</div>"
      ],
      "text/plain": [
       "                    price        km     Gears       age  Previous_Owners  \\\n",
       "price            1.000000 -0.399443  0.530563 -0.473689        -0.144672   \n",
       "km              -0.399443  1.000000 -0.033087  0.758370         0.157039   \n",
       "Gears            0.530563 -0.033087  1.000000 -0.064507        -0.036594   \n",
       "age             -0.473689  0.758370 -0.064507  1.000000         0.316166   \n",
       "Previous_Owners -0.144672  0.157039 -0.036594  0.316166         1.000000   \n",
       "hp_kW            0.696532  0.004170  0.449680 -0.083334        -0.022535   \n",
       "Inspection_new   0.008508 -0.049485 -0.011026 -0.045467         0.019519   \n",
       "Displacement_cc  0.282075  0.306792  0.339431  0.215304         0.027961   \n",
       "Weight_kg        0.468264  0.147246  0.334002  0.065081         0.003460   \n",
       "cons_comb        0.301448 -0.345228  0.011357 -0.371941        -0.022799   \n",
       "CO2_Emission     0.347668 -0.227640  0.106674 -0.288236        -0.030866   \n",
       "\n",
       "                    hp_kW  Inspection_new  Displacement_cc  Weight_kg  \\\n",
       "price            0.696532        0.008508         0.282075   0.468264   \n",
       "km               0.004170       -0.049485         0.306792   0.147246   \n",
       "Gears            0.449680       -0.011026         0.339431   0.334002   \n",
       "age             -0.083334       -0.045467         0.215304   0.065081   \n",
       "Previous_Owners -0.022535        0.019519         0.027961   0.003460   \n",
       "hp_kW            1.000000        0.036740         0.597708   0.638395   \n",
       "Inspection_new   0.036740        1.000000        -0.025975  -0.035456   \n",
       "Displacement_cc  0.597708       -0.025975         1.000000   0.563594   \n",
       "Weight_kg        0.638395       -0.035456         0.563594   1.000000   \n",
       "cons_comb        0.403492        0.154669         0.004314   0.105840   \n",
       "CO2_Emission     0.522772        0.134247         0.288515   0.298414   \n",
       "\n",
       "                 cons_comb  CO2_Emission  \n",
       "price             0.301448      0.347668  \n",
       "km               -0.345228     -0.227640  \n",
       "Gears             0.011357      0.106674  \n",
       "age              -0.371941     -0.288236  \n",
       "Previous_Owners  -0.022799     -0.030866  \n",
       "hp_kW             0.403492      0.522772  \n",
       "Inspection_new    0.154669      0.134247  \n",
       "Displacement_cc   0.004314      0.288515  \n",
       "Weight_kg         0.105840      0.298414  \n",
       "cons_comb         1.000000      0.896209  \n",
       "CO2_Emission      0.896209      1.000000  "
      ]
     },
     "execution_count": 18,
     "metadata": {},
     "output_type": "execute_result"
    }
   ],
   "source": [
    "df.corr()"
   ]
  },
  {
   "cell_type": "code",
   "execution_count": 19,
   "id": "6e6a7783",
   "metadata": {},
   "outputs": [],
   "source": [
    "import seaborn as sns"
   ]
  },
  {
   "cell_type": "code",
   "execution_count": 20,
   "id": "41590034",
   "metadata": {},
   "outputs": [
    {
     "data": {
      "text/plain": [
       "<AxesSubplot: >"
      ]
     },
     "execution_count": 20,
     "metadata": {},
     "output_type": "execute_result"
    },
    {
     "data": {
      "image/png": "[encoded data removed]",
      "text/plain": [
       "<Figure size 640x480 with 2 Axes>"
      ]
     },
     "metadata": {},
     "output_type": "display_data"
    }
   ],
   "source": [
    "sns.heatmap(df.corr(), annot=True)"
   ]
  },
  {
   "cell_type": "code",
   "execution_count": 21,
   "id": "9e172ec1",
   "metadata": {},
   "outputs": [
    {
     "data": {
      "image/png": "[encoded data removed]",
      "text/plain": [
       "<Figure size 640x480 with 1 Axes>"
      ]
     },
     "metadata": {},
     "output_type": "display_data"
    }
   ],
   "source": [
    "ax = df.make_model.value_counts().plot(kind =\"bar\")\n",
    "\n",
    "ax.bar_label(ax.containers[0]);"
   ]
  },
  {
   "cell_type": "code",
   "execution_count": 22,
   "id": "aa33608b",
   "metadata": {},
   "outputs": [
    {
     "data": {
      "text/plain": [
       "Audi A3           3093\n",
       "Audi A1           2614\n",
       "Opel Insignia     2598\n",
       "Opel Astra        2525\n",
       "Opel Corsa        2216\n",
       "Renault Clio      1838\n",
       "Renault Espace     991\n",
       "Renault Duster      34\n",
       "Name: make_model, dtype: int64"
      ]
     },
     "execution_count": 22,
     "metadata": {},
     "output_type": "execute_result"
    }
   ],
   "source": [
    "df.make_model.value_counts()"
   ]
  },
  {
   "cell_type": "code",
   "execution_count": 23,
   "id": "1061fd53",
   "metadata": {},
   "outputs": [
    {
     "data": {
      "text/html": [
       "<div>\n",
       "<style scoped>\n",
       "    .dataframe tbody tr th:only-of-type {\n",
       "        vertical-align: middle;\n",
       "    }\n",
       "\n",
       "    .dataframe tbody tr th {\n",
       "        vertical-align: top;\n",
       "    }\n",
       "\n",
       "    .dataframe thead th {\n",
       "        text-align: right;\n",
       "    }\n",
       "</style>\n",
       "<table border=\"1\" class=\"dataframe\">\n",
       "  <thead>\n",
       "    <tr style=\"text-align: right;\">\n",
       "      <th></th>\n",
       "      <th>make_model</th>\n",
       "      <th>body_type</th>\n",
       "      <th>price</th>\n",
       "      <th>km</th>\n",
       "      <th>Type</th>\n",
       "      <th>Fuel</th>\n",
       "      <th>Extras</th>\n",
       "      <th>Gears</th>\n",
       "      <th>age</th>\n",
       "      <th>Previous_Owners</th>\n",
       "      <th>...</th>\n",
       "      <th>Upholstery_type</th>\n",
       "      <th>Gearing_Type</th>\n",
       "      <th>Displacement_cc</th>\n",
       "      <th>Weight_kg</th>\n",
       "      <th>Drive_chain</th>\n",
       "      <th>cons_comb</th>\n",
       "      <th>CO2_Emission</th>\n",
       "      <th>Comfort_Convenience_Package</th>\n",
       "      <th>Entertainment_Media_Package</th>\n",
       "      <th>Safety_Security_Package</th>\n",
       "    </tr>\n",
       "  </thead>\n",
       "  <tbody>\n",
       "  </tbody>\n",
       "</table>\n",
       "<p>0 rows × 23 columns</p>\n",
       "</div>"
      ],
      "text/plain": [
       "Empty DataFrame\n",
       "Columns: [make_model, body_type, price, km, Type, Fuel, Extras, Gears, age, Previous_Owners, hp_kW, Inspection_new, Paint_Type, Upholstery_type, Gearing_Type, Displacement_cc, Weight_kg, Drive_chain, cons_comb, CO2_Emission, Comfort_Convenience_Package, Entertainment_Media_Package, Safety_Security_Package]\n",
       "Index: []\n",
       "\n",
       "[0 rows x 23 columns]"
      ]
     },
     "execution_count": 23,
     "metadata": {},
     "output_type": "execute_result"
    }
   ],
   "source": [
    "df[df.make_model==\"Audi A2\"]"
   ]
  },
  {
   "cell_type": "code",
   "execution_count": 24,
   "id": "aa22a1f6",
   "metadata": {},
   "outputs": [],
   "source": [
    "df.drop(index=[2614], inplace =True)"
   ]
  },
  {
   "cell_type": "code",
   "execution_count": 25,
   "id": "98bdcca6",
   "metadata": {},
   "outputs": [
    {
     "data": {
      "text/plain": [
       "array(['Audi A1', 'Audi A3', 'Opel Astra', 'Opel Corsa', 'Opel Insignia',\n",
       "       'Renault Clio', 'Renault Duster', 'Renault Espace'], dtype=object)"
      ]
     },
     "execution_count": 25,
     "metadata": {},
     "output_type": "execute_result"
    }
   ],
   "source": [
    "df.make_model.unique()\n"
   ]
  },
  {
   "cell_type": "code",
   "execution_count": 26,
   "id": "8e27e744",
   "metadata": {},
   "outputs": [
    {
     "data": {
      "text/plain": [
       "0       15770\n",
       "1       14500\n",
       "2       14640\n",
       "3       14500\n",
       "4       16790\n",
       "        ...  \n",
       "2609    21800\n",
       "2610    21789\n",
       "2611    21750\n",
       "2612    21760\n",
       "2613    21750\n",
       "Name: price, Length: 2614, dtype: int64"
      ]
     },
     "execution_count": 26,
     "metadata": {},
     "output_type": "execute_result"
    }
   ],
   "source": [
    "df[df[\"make_model\"]== \"Audi A1\"][\"price\"]\n"
   ]
  },
  {
   "cell_type": "code",
   "execution_count": 27,
   "id": "4be93e71",
   "metadata": {},
   "outputs": [
    {
     "data": {
      "text/plain": [
       "4"
      ]
     },
     "execution_count": 27,
     "metadata": {},
     "output_type": "execute_result"
    }
   ],
   "source": [
    "df.age.nunique()"
   ]
  },
  {
   "cell_type": "code",
   "execution_count": 28,
   "id": "ce5cb929",
   "metadata": {},
   "outputs": [
    {
     "data": {
      "text/plain": [
       "77"
      ]
     },
     "execution_count": 28,
     "metadata": {},
     "output_type": "execute_result"
    }
   ],
   "source": [
    "df.hp_kW.nunique()"
   ]
  },
  {
   "cell_type": "code",
   "execution_count": 29,
   "id": "754a92db",
   "metadata": {},
   "outputs": [
    {
     "data": {
      "text/plain": [
       "6689"
      ]
     },
     "execution_count": 29,
     "metadata": {},
     "output_type": "execute_result"
    }
   ],
   "source": [
    "df.km.nunique()"
   ]
  },
  {
   "cell_type": "code",
   "execution_count": 30,
   "id": "d78ce10b",
   "metadata": {},
   "outputs": [
    {
     "data": {
      "text/plain": [
       "array(['Automatic', 'Manual', 'Semi-automatic'], dtype=object)"
      ]
     },
     "execution_count": 30,
     "metadata": {},
     "output_type": "execute_result"
    }
   ],
   "source": [
    "df.Gearing_Type.unique()"
   ]
  },
  {
   "cell_type": "code",
   "execution_count": 31,
   "id": "87cf62e2",
   "metadata": {},
   "outputs": [
    {
     "data": {
      "text/plain": [
       "array(['Audi A1', 'Audi A3', 'Opel Astra', 'Opel Corsa', 'Opel Insignia',\n",
       "       'Renault Clio', 'Renault Duster', 'Renault Espace'], dtype=object)"
      ]
     },
     "execution_count": 31,
     "metadata": {},
     "output_type": "execute_result"
    }
   ],
   "source": [
    "df.make_model.unique()"
   ]
  },
  {
   "cell_type": "code",
   "execution_count": 32,
   "id": "23b5b942",
   "metadata": {},
   "outputs": [
    {
     "data": {
      "text/plain": [
       "array(['Diesel', 'Benzine', 'LPG/CNG'], dtype=object)"
      ]
     },
     "execution_count": 32,
     "metadata": {},
     "output_type": "execute_result"
    }
   ],
   "source": [
    "df.Fuel.unique()"
   ]
  },
  {
   "cell_type": "code",
   "execution_count": 33,
   "id": "40d50277",
   "metadata": {},
   "outputs": [
    {
     "data": {
      "text/plain": [
       "array(['Premium', 'Standard', 'Premium Plus'], dtype=object)"
      ]
     },
     "execution_count": 33,
     "metadata": {},
     "output_type": "execute_result"
    }
   ],
   "source": [
    "df.Comfort_Convenience_Package.unique()"
   ]
  },
  {
   "cell_type": "code",
   "execution_count": 34,
   "id": "81173c9c",
   "metadata": {},
   "outputs": [
    {
     "data": {
      "text/plain": [
       "2950"
      ]
     },
     "execution_count": 34,
     "metadata": {},
     "output_type": "execute_result"
    }
   ],
   "source": [
    "df.price.nunique()"
   ]
  },
  {
   "cell_type": "code",
   "execution_count": 35,
   "id": "ce431386",
   "metadata": {},
   "outputs": [],
   "source": [
    "X_list=['age', 'hp_kW', 'km', 'Gearing_Type', 'make_model', 'Fuel', 'Comfort_Convenience_Package']"
   ]
  },
  {
   "cell_type": "code",
   "execution_count": 36,
   "id": "c96f058f",
   "metadata": {},
   "outputs": [],
   "source": [
    "X=df[X_list]\n",
    "y=df['price']"
   ]
  },
  {
   "cell_type": "code",
   "execution_count": 37,
   "id": "c0f6ea8d",
   "metadata": {},
   "outputs": [],
   "source": [
    "X_train, X_test, y_train, y_test = train_test_split(X, y, test_size=0.2, random_state=101)"
   ]
  },
  {
   "cell_type": "code",
   "execution_count": 38,
   "id": "c6fa8154",
   "metadata": {},
   "outputs": [
    {
     "data": {
      "text/html": [
       "<div>\n",
       "<style scoped>\n",
       "    .dataframe tbody tr th:only-of-type {\n",
       "        vertical-align: middle;\n",
       "    }\n",
       "\n",
       "    .dataframe tbody tr th {\n",
       "        vertical-align: top;\n",
       "    }\n",
       "\n",
       "    .dataframe thead th {\n",
       "        text-align: right;\n",
       "    }\n",
       "</style>\n",
       "<table border=\"1\" class=\"dataframe\">\n",
       "  <thead>\n",
       "    <tr style=\"text-align: right;\">\n",
       "      <th></th>\n",
       "      <th>age</th>\n",
       "      <th>hp_kW</th>\n",
       "      <th>km</th>\n",
       "      <th>Gearing_Type</th>\n",
       "      <th>make_model</th>\n",
       "      <th>Fuel</th>\n",
       "      <th>Comfort_Convenience_Package</th>\n",
       "    </tr>\n",
       "  </thead>\n",
       "  <tbody>\n",
       "    <tr>\n",
       "      <th>14867</th>\n",
       "      <td>0.0</td>\n",
       "      <td>56.0</td>\n",
       "      <td>1.000000</td>\n",
       "      <td>Manual</td>\n",
       "      <td>Renault Clio</td>\n",
       "      <td>Benzine</td>\n",
       "      <td>Standard</td>\n",
       "    </tr>\n",
       "    <tr>\n",
       "      <th>12552</th>\n",
       "      <td>0.0</td>\n",
       "      <td>155.0</td>\n",
       "      <td>1647.362609</td>\n",
       "      <td>Automatic</td>\n",
       "      <td>Opel Insignia</td>\n",
       "      <td>Diesel</td>\n",
       "      <td>Premium</td>\n",
       "    </tr>\n",
       "    <tr>\n",
       "      <th>7723</th>\n",
       "      <td>0.0</td>\n",
       "      <td>110.0</td>\n",
       "      <td>6200.000000</td>\n",
       "      <td>Automatic</td>\n",
       "      <td>Opel Astra</td>\n",
       "      <td>Benzine</td>\n",
       "      <td>Premium</td>\n",
       "    </tr>\n",
       "  </tbody>\n",
       "</table>\n",
       "</div>"
      ],
      "text/plain": [
       "       age  hp_kW           km Gearing_Type     make_model     Fuel  \\\n",
       "14867  0.0   56.0     1.000000       Manual   Renault Clio  Benzine   \n",
       "12552  0.0  155.0  1647.362609    Automatic  Opel Insignia   Diesel   \n",
       "7723   0.0  110.0  6200.000000    Automatic     Opel Astra  Benzine   \n",
       "\n",
       "      Comfort_Convenience_Package  \n",
       "14867                    Standard  \n",
       "12552                     Premium  \n",
       "7723                      Premium  "
      ]
     },
     "execution_count": 38,
     "metadata": {},
     "output_type": "execute_result"
    }
   ],
   "source": [
    "X.sample(3)"
   ]
  },
  {
   "cell_type": "code",
   "execution_count": 39,
   "id": "ca3b7612",
   "metadata": {},
   "outputs": [],
   "source": [
    "from sklearn.compose import make_column_transformer"
   ]
  },
  {
   "cell_type": "code",
   "execution_count": 40,
   "id": "42081e7f",
   "metadata": {},
   "outputs": [],
   "source": [
    "from sklearn.preprocessing import OrdinalEncoder\n"
   ]
  },
  {
   "cell_type": "code",
   "execution_count": 41,
   "id": "144c8aae",
   "metadata": {},
   "outputs": [
    {
     "data": {
      "text/plain": [
       "Index(['Gearing_Type', 'make_model', 'Fuel', 'Comfort_Convenience_Package'], dtype='object')"
      ]
     },
     "execution_count": 41,
     "metadata": {},
     "output_type": "execute_result"
    }
   ],
   "source": [
    "cat = X_train.select_dtypes(\"object\").columns\n",
    "cat"
   ]
  },
  {
   "cell_type": "code",
   "execution_count": 42,
   "id": "a982816b",
   "metadata": {},
   "outputs": [],
   "source": [
    "ord_enc = OrdinalEncoder()\n",
    "column_trans = make_column_transformer((ord_enc, cat), remainder='passthrough') "
   ]
  },
  {
   "cell_type": "code",
   "execution_count": 43,
   "id": "3c74aa2f",
   "metadata": {},
   "outputs": [],
   "source": [
    "X_train=column_trans.fit_transform(X_train)"
   ]
  },
  {
   "cell_type": "code",
   "execution_count": 44,
   "id": "9cae986e",
   "metadata": {},
   "outputs": [],
   "source": [
    "X_test=column_trans.transform(X_test)"
   ]
  },
  {
   "cell_type": "code",
   "execution_count": 45,
   "id": "cd34a042",
   "metadata": {},
   "outputs": [
    {
     "data": {
      "text/plain": [
       "RandomForestRegressor()"
      ]
     },
     "execution_count": 45,
     "metadata": {},
     "output_type": "execute_result"
    }
   ],
   "source": [
    "from sklearn.ensemble import RandomForestRegressor\n",
    "rfr_model=RandomForestRegressor()\n",
    "rfr_model.fit(X_train, y_train)"
   ]
  },
  {
   "cell_type": "code",
   "execution_count": 46,
   "id": "c66cecf9",
   "metadata": {},
   "outputs": [],
   "source": [
    "y_pred = rfr_model.predict(X_test)"
   ]
  },
  {
   "cell_type": "code",
   "execution_count": 47,
   "id": "36dd5edf",
   "metadata": {},
   "outputs": [
    {
     "name": "stdout",
     "output_type": "stream",
     "text": [
      " r2_score: 0.934548236365817 \n",
      " mae: 1133.7612976264124 \n",
      " mse: 3561139.3720311625 \n",
      " rmse: 1887.0981352412923\n"
     ]
    }
   ],
   "source": [
    "eval_metrics(y_test,y_pred)"
   ]
  },
  {
   "cell_type": "code",
   "execution_count": 48,
   "id": "d4f452c4",
   "metadata": {},
   "outputs": [],
   "source": [
    "import pickle\n",
    "pickle.dump(rfr_model, open('rfr_model_new', 'wb'))"
   ]
  },
  {
   "cell_type": "code",
   "execution_count": 49,
   "id": "b0d82dd8",
   "metadata": {},
   "outputs": [],
   "source": [
    "pickle.dump(column_trans, open('transformer', 'wb'))"
   ]
  },
  {
   "cell_type": "code",
   "execution_count": 50,
   "id": "6571ff44",
   "metadata": {},
   "outputs": [],
   "source": [
    "auto_model = pickle.load(open('rfr_model_new', 'rb'))"
   ]
  },
  {
   "cell_type": "code",
   "execution_count": 51,
   "id": "eb5f6622",
   "metadata": {},
   "outputs": [],
   "source": [
    "auto_transformer = pickle.load(open('transformer', 'rb'))"
   ]
  },
  {
   "cell_type": "code",
   "execution_count": 52,
   "id": "4883d9e9",
   "metadata": {},
   "outputs": [
    {
     "data": {
      "text/plain": [
       "['age',\n",
       " 'hp_kW',\n",
       " 'km',\n",
       " 'Gearing_Type',\n",
       " 'make_model',\n",
       " 'Fuel',\n",
       " 'Comfort_Convenience_Package']"
      ]
     },
     "execution_count": 52,
     "metadata": {},
     "output_type": "execute_result"
    }
   ],
   "source": [
    "columns=list(X.columns)\n",
    "columns"
   ]
  },
  {
   "cell_type": "code",
   "execution_count": 53,
   "id": "90928849",
   "metadata": {},
   "outputs": [],
   "source": [
    "my_dict = {\n",
    "    \"age\": 2,\n",
    "    \"hp_kW\": 105,\n",
    "    \"km\": 100000,\n",
    "    \"Gearing_Type\":\"Automatic\",\n",
    "    \"make_model\": 'Audi A3',\n",
    "    'Fuel':'Diesel',\n",
    "    'Comfort_Convenience_Package':'Premium'\n",
    "}"
   ]
  },
  {
   "cell_type": "code",
   "execution_count": 54,
   "id": "b4338169",
   "metadata": {},
   "outputs": [],
   "source": [
    "df = pd.DataFrame([my_dict])"
   ]
  },
  {
   "cell_type": "code",
   "execution_count": 55,
   "id": "0f85978d",
   "metadata": {},
   "outputs": [
    {
     "data": {
      "text/html": [
       "<div>\n",
       "<style scoped>\n",
       "    .dataframe tbody tr th:only-of-type {\n",
       "        vertical-align: middle;\n",
       "    }\n",
       "\n",
       "    .dataframe tbody tr th {\n",
       "        vertical-align: top;\n",
       "    }\n",
       "\n",
       "    .dataframe thead th {\n",
       "        text-align: right;\n",
       "    }\n",
       "</style>\n",
       "<table border=\"1\" class=\"dataframe\">\n",
       "  <thead>\n",
       "    <tr style=\"text-align: right;\">\n",
       "      <th></th>\n",
       "      <th>age</th>\n",
       "      <th>hp_kW</th>\n",
       "      <th>km</th>\n",
       "      <th>Gearing_Type</th>\n",
       "      <th>make_model</th>\n",
       "      <th>Fuel</th>\n",
       "      <th>Comfort_Convenience_Package</th>\n",
       "    </tr>\n",
       "  </thead>\n",
       "  <tbody>\n",
       "    <tr>\n",
       "      <th>0</th>\n",
       "      <td>2</td>\n",
       "      <td>105</td>\n",
       "      <td>100000</td>\n",
       "      <td>Automatic</td>\n",
       "      <td>Audi A3</td>\n",
       "      <td>Diesel</td>\n",
       "      <td>Premium</td>\n",
       "    </tr>\n",
       "  </tbody>\n",
       "</table>\n",
       "</div>"
      ],
      "text/plain": [
       "   age  hp_kW      km Gearing_Type make_model    Fuel  \\\n",
       "0    2    105  100000    Automatic    Audi A3  Diesel   \n",
       "\n",
       "  Comfort_Convenience_Package  \n",
       "0                     Premium  "
      ]
     },
     "execution_count": 55,
     "metadata": {},
     "output_type": "execute_result"
    }
   ],
   "source": [
    "df.head()\n"
   ]
  },
  {
   "cell_type": "code",
   "execution_count": 56,
   "id": "b3693a7a",
   "metadata": {},
   "outputs": [],
   "source": [
    "df2 = auto_transformer.transform(df)"
   ]
  },
  {
   "cell_type": "code",
   "execution_count": 57,
   "id": "2c11da64",
   "metadata": {},
   "outputs": [
    {
     "data": {
      "text/plain": [
       "0         0.0\n",
       "1         1.0\n",
       "2         1.0\n",
       "3         0.0\n",
       "4         2.0\n",
       "5       105.0\n",
       "6    100000.0\n",
       "dtype: float64"
      ]
     },
     "execution_count": 57,
     "metadata": {},
     "output_type": "execute_result"
    }
   ],
   "source": [
    "pd.Series(df2[0])"
   ]
  },
  {
   "cell_type": "code",
   "execution_count": 58,
   "id": "8060586a",
   "metadata": {},
   "outputs": [
    {
     "name": "stdout",
     "output_type": "stream",
     "text": [
      "[18917.26]\n"
     ]
    }
   ],
   "source": [
    "prediction = rfr_model.predict(df2)\n",
    "print(prediction)"
   ]
  },
  {
   "cell_type": "code",
   "execution_count": 59,
   "id": "8f01f1f3",
   "metadata": {},
   "outputs": [
    {
     "name": "stdout",
     "output_type": "stream",
     "text": [
      "The estimated price of your car is €18917. \n"
     ]
    }
   ],
   "source": [
    "print(\"The estimated price of your car is €{}. \".format(int(prediction[0])))"
   ]
  },
  {
   "cell_type": "code",
   "execution_count": null,
   "id": "2d6182b4",
   "metadata": {},
   "outputs": [],
   "source": []
  }
 ],
 "metadata": {
  "kernelspec": {
   "display_name": "env_name",
   "language": "python",
   "name": "python3"
  },
  "language_info": {
   "codemirror_mode": {
    "name": "ipython",
    "version": 3
   },
   "file_extension": ".py",
   "mimetype": "text/x-python",
   "name": "python",
   "nbconvert_exporter": "python",
   "pygments_lexer": "ipython3",
   "version": "3.9.12"
  },
  "vscode": {
   "interpreter": {
    "hash": "655566813a8bea50e24c9ff92fdc104ae12463781192ea6137f49d4a695b108e"
   }
  }
 },
 "nbformat": 4,
 "nbformat_minor": 5
}
